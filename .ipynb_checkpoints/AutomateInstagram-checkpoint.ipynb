{
 "cells": [
  {
   "cell_type": "code",
   "execution_count": null,
   "metadata": {},
   "outputs": [],
   "source": [
    "from instapy import InstaPy\n",
    "from time import sleep\n",
    "from selenium import webdriver"
   ]
  },
  {
   "cell_type": "code",
   "execution_count": 135,
   "metadata": {},
   "outputs": [],
   "source": [
    "class automateInstagram():\n",
    "    def __init__(self,username, password):\n",
    "        \n",
    "        self.browser = webdriver.Chrome()\n",
    "        self.username = username\n",
    "        self.password = password\n",
    "        \n",
    "    \n",
    "    def login(self):\n",
    "        self.browser.get('https://www.instagram.com/')\n",
    "        sleep(1)\n",
    "        \n",
    "        #login with username and password\n",
    "        self.browser.find_element_by_xpath('//input[@name=\\\"username\\\"]')\\\n",
    "        .send_keys(username)\n",
    "        self.browser.find_element_by_xpath('//input[@name=\\\"password\\\"]')\\\n",
    "        .send_keys(password)\n",
    "        self.browser.find_element_by_xpath('//button[@type=\"submit\"]').click()\n",
    "        sleep(3)\n",
    "        \n",
    "        #save password? - not now\n",
    "        self.browser.find_element_by_xpath(\"//button[contains(text(), 'Not Now')]\")\\\n",
    "        .click()\n",
    "        sleep(3)\n",
    "        \n",
    "        #turn on notificaitons? - not now\n",
    "        self.browser.find_element_by_xpath(\"//button[contains(text(), 'Not Now')]\")\\\n",
    "        .click()\n",
    "        \n",
    "    #def scroll_and_like:       \n",
    "    #def makepost:\n",
    "    #def follow:   \n",
    "    #def unfollow: "
   ]
  },
  {
   "cell_type": "code",
   "execution_count": null,
   "metadata": {},
   "outputs": [],
   "source": [
    "# ENTER username and password for the account you are logging into\n",
    "username = input(\"Username: \")\n",
    "password = input(\"Password: \")"
   ]
  },
  {
   "cell_type": "code",
   "execution_count": 137,
   "metadata": {},
   "outputs": [],
   "source": [
    "instaSession = automateInstagram(username,password)\n",
    "instaSession.login()"
   ]
  },
  {
   "cell_type": "code",
   "execution_count": null,
   "metadata": {},
   "outputs": [],
   "source": []
  },
  {
   "cell_type": "code",
   "execution_count": null,
   "metadata": {},
   "outputs": [],
   "source": []
  }
 ],
 "metadata": {
  "kernelspec": {
   "display_name": "Python 3",
   "language": "python",
   "name": "python3"
  },
  "language_info": {
   "codemirror_mode": {
    "name": "ipython",
    "version": 3
   },
   "file_extension": ".py",
   "mimetype": "text/x-python",
   "name": "python",
   "nbconvert_exporter": "python",
   "pygments_lexer": "ipython3",
   "version": "3.7.6"
  }
 },
 "nbformat": 4,
 "nbformat_minor": 4
}
